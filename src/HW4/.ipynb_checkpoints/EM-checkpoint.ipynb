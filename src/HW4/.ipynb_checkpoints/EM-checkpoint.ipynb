{
 "cells": [
  {
   "cell_type": "code",
   "execution_count": 1,
   "metadata": {},
   "outputs": [],
   "source": [
    "import numpy as np\n",
    "from mnist import MNIST\n",
    "from sklearn.metrics import confusion_matrix"
   ]
  },
  {
   "cell_type": "code",
   "execution_count": 2,
   "metadata": {},
   "outputs": [
    {
     "ename": "AttributeError",
     "evalue": "module 'mnist' has no attribute 'read'",
     "output_type": "error",
     "traceback": [
      "\u001b[0;31m---------------------------------------------------------------------------\u001b[0m",
      "\u001b[0;31mAttributeError\u001b[0m                            Traceback (most recent call last)",
      "\u001b[0;32m<ipython-input-2-c7e24a8d9923>\u001b[0m in \u001b[0;36m<module>\u001b[0;34m\u001b[0m\n\u001b[0;32m----> 1\u001b[0;31m \u001b[0mimg\u001b[0m\u001b[0;34m,\u001b[0m \u001b[0mlbl\u001b[0m \u001b[0;34m=\u001b[0m \u001b[0mmnist\u001b[0m\u001b[0;34m.\u001b[0m\u001b[0mread\u001b[0m\u001b[0;34m(\u001b[0m\u001b[0;34m'train-images.idx3-ubyte'\u001b[0m\u001b[0;34m,\u001b[0m \u001b[0;34m'train-labels.idx1-ubyte'\u001b[0m\u001b[0;34m)\u001b[0m\u001b[0;34m\u001b[0m\u001b[0;34m\u001b[0m\u001b[0m\n\u001b[0m\u001b[1;32m      2\u001b[0m \u001b[0mprint\u001b[0m\u001b[0;34m(\u001b[0m\u001b[0mimg\u001b[0m\u001b[0;34m.\u001b[0m\u001b[0mshape\u001b[0m\u001b[0;34m)\u001b[0m\u001b[0;34m\u001b[0m\u001b[0;34m\u001b[0m\u001b[0m\n\u001b[1;32m      3\u001b[0m \u001b[0mprint\u001b[0m\u001b[0;34m(\u001b[0m\u001b[0mlbl\u001b[0m\u001b[0;34m.\u001b[0m\u001b[0mshape\u001b[0m\u001b[0;34m)\u001b[0m\u001b[0;34m\u001b[0m\u001b[0;34m\u001b[0m\u001b[0m\n",
      "\u001b[0;31mAttributeError\u001b[0m: module 'mnist' has no attribute 'read'"
     ]
    }
   ],
   "source": [
    "img, lbl = mnist.read('train-images.idx3-ubyte', 'train-labels.idx1-ubyte')\n",
    "print(img.shape)\n",
    "print(lbl.shape)"
   ]
  },
  {
   "cell_type": "markdown",
   "metadata": {},
   "source": [
    "Threshold the image"
   ]
  },
  {
   "cell_type": "code",
   "execution_count": 4,
   "metadata": {},
   "outputs": [
    {
     "data": {
      "text/plain": [
       "array([0, 0, 0, 0, 0, 0, 0, 0, 0, 0, 0, 0, 0, 0, 0, 0, 0, 0, 0, 0, 0, 0,\n",
       "       0, 0, 0, 0, 0, 0, 0, 0, 0, 0, 0, 0, 0, 0, 0, 0, 0, 0, 0, 0, 0, 0,\n",
       "       0, 0, 0, 0, 0, 0, 0, 0, 0, 0, 0, 0, 0, 0, 0, 0, 0, 0, 0, 0, 0, 0,\n",
       "       0, 0, 0, 0, 0, 0, 0, 0, 0, 0, 0, 0, 0, 0, 0, 0, 0, 0, 0, 0, 0, 0,\n",
       "       0, 0, 0, 0, 0, 0, 0, 0, 0, 0, 0, 0, 0, 0, 0, 0, 0, 0, 0, 0, 0, 0,\n",
       "       0, 0, 0, 0, 0, 0, 0, 0, 0, 0, 0, 0, 0, 0, 0, 0, 0, 0, 0, 0, 0, 0,\n",
       "       0, 0, 0, 0, 0, 0, 0, 0, 0, 0, 0, 0, 0, 0, 0, 0, 0, 0, 0, 0, 0, 0,\n",
       "       0, 0, 0, 1, 1, 0, 1, 1, 1, 1, 0, 0, 0, 0, 0, 0, 0, 0, 0, 0, 0, 0,\n",
       "       0, 0, 0, 1, 1, 1, 1, 1, 1, 1, 1, 1, 1, 1, 1, 0, 0, 0, 0, 0, 0, 0,\n",
       "       0, 0, 0, 0, 0, 0, 1, 1, 1, 1, 1, 1, 1, 1, 1, 1, 0, 0, 0, 0, 0, 0,\n",
       "       0, 0, 0, 0, 0, 0, 0, 0, 0, 0, 0, 0, 1, 1, 1, 1, 1, 1, 1, 1, 1, 1,\n",
       "       0, 0, 0, 0, 0, 0, 0, 0, 0, 0, 0, 0, 0, 0, 0, 0, 0, 0, 0, 1, 0, 1,\n",
       "       1, 1, 0, 0, 0, 1, 0, 0, 0, 0, 0, 0, 0, 0, 0, 0, 0, 0, 0, 0, 0, 0,\n",
       "       0, 0, 0, 0, 0, 1, 1, 0, 0, 0, 0, 0, 0, 0, 0, 0, 0, 0, 0, 0, 0, 0,\n",
       "       0, 0, 0, 0, 0, 0, 0, 0, 0, 0, 0, 1, 1, 1, 0, 0, 0, 0, 0, 0, 0, 0,\n",
       "       0, 0, 0, 0, 0, 0, 0, 0, 0, 0, 0, 0, 0, 0, 0, 0, 0, 0, 1, 1, 0, 0,\n",
       "       0, 0, 0, 0, 0, 0, 0, 0, 0, 0, 0, 0, 0, 0, 0, 0, 0, 0, 0, 0, 0, 0,\n",
       "       0, 0, 0, 1, 1, 1, 0, 0, 0, 0, 0, 0, 0, 0, 0, 0, 0, 0, 0, 0, 0, 0,\n",
       "       0, 0, 0, 0, 0, 0, 0, 0, 0, 0, 1, 1, 1, 0, 0, 0, 0, 0, 0, 0, 0, 0,\n",
       "       0, 0, 0, 0, 0, 0, 0, 0, 0, 0, 0, 0, 0, 0, 0, 0, 0, 1, 1, 1, 1, 0,\n",
       "       0, 0, 0, 0, 0, 0, 0, 0, 0, 0, 0, 0, 0, 0, 0, 0, 0, 0, 0, 0, 0, 0,\n",
       "       0, 0, 0, 1, 1, 1, 0, 0, 0, 0, 0, 0, 0, 0, 0, 0, 0, 0, 0, 0, 0, 0,\n",
       "       0, 0, 0, 0, 0, 0, 0, 0, 0, 1, 1, 1, 0, 0, 0, 0, 0, 0, 0, 0, 0, 0,\n",
       "       0, 0, 0, 0, 0, 0, 0, 0, 0, 0, 0, 0, 0, 1, 1, 1, 1, 1, 0, 0, 0, 0,\n",
       "       0, 0, 0, 0, 0, 0, 0, 0, 0, 0, 0, 0, 0, 0, 0, 0, 0, 1, 1, 1, 1, 1,\n",
       "       1, 1, 0, 0, 0, 0, 0, 0, 0, 0, 0, 0, 0, 0, 0, 0, 0, 0, 0, 0, 0, 0,\n",
       "       1, 1, 1, 1, 1, 1, 0, 0, 0, 0, 0, 0, 0, 0, 0, 0, 0, 0, 0, 0, 0, 0,\n",
       "       0, 0, 0, 0, 1, 1, 1, 1, 1, 1, 0, 0, 0, 0, 0, 0, 0, 0, 0, 0, 0, 0,\n",
       "       0, 0, 0, 0, 0, 0, 0, 1, 1, 1, 1, 1, 1, 1, 0, 0, 0, 0, 0, 0, 0, 0,\n",
       "       0, 0, 0, 0, 0, 0, 0, 0, 0, 0, 0, 1, 1, 1, 1, 1, 1, 1, 1, 0, 0, 0,\n",
       "       0, 0, 0, 0, 0, 0, 0, 0, 0, 0, 0, 0, 0, 0, 0, 0, 1, 1, 1, 1, 1, 1,\n",
       "       1, 0, 0, 0, 0, 0, 0, 0, 0, 0, 0, 0, 0, 0, 0, 0, 0, 0, 0, 0, 0, 0,\n",
       "       0, 0, 0, 0, 0, 0, 0, 0, 0, 0, 0, 0, 0, 0, 0, 0, 0, 0, 0, 0, 0, 0,\n",
       "       0, 0, 0, 0, 0, 0, 0, 0, 0, 0, 0, 0, 0, 0, 0, 0, 0, 0, 0, 0, 0, 0,\n",
       "       0, 0, 0, 0, 0, 0, 0, 0, 0, 0, 0, 0, 0, 0, 0, 0, 0, 0, 0, 0, 0, 0,\n",
       "       0, 0, 0, 0, 0, 0, 0, 0, 0, 0, 0, 0, 0, 0], dtype=uint8)"
      ]
     },
     "execution_count": 4,
     "metadata": {},
     "output_type": "execute_result"
    }
   ],
   "source": [
    "img_new = img.copy()\n",
    "img_new[img >= 127] = 1\n",
    "img_new[img < 127] = 0\n",
    "img_new[0]"
   ]
  },
  {
   "cell_type": "markdown",
   "metadata": {},
   "source": [
    "Setup parameters for EM"
   ]
  },
  {
   "cell_type": "code",
   "execution_count": 14,
   "metadata": {},
   "outputs": [
    {
     "name": "stdout",
     "output_type": "stream",
     "text": [
      "[0.1 0.1 0.1 0.1 0.1 0.1 0.1 0.1 0.1 0.1]\n",
      "[0.86331596 0.82075762 0.75339755 0.66534873 0.18631273 0.29417214\n",
      " 0.67644608 0.88085744 0.56609859 0.58367971]\n"
     ]
    }
   ],
   "source": [
    "weight = np.ones((10,)) / 10\n",
    "probability = np.random.random_sample((10,))\n",
    "print(weight)\n",
    "print(probability)"
   ]
  },
  {
   "cell_type": "markdown",
   "metadata": {},
   "source": [
    "EM Algorithm"
   ]
  },
  {
   "cell_type": "code",
   "execution_count": 17,
   "metadata": {},
   "outputs": [
    {
     "name": "stdout",
     "output_type": "stream",
     "text": [
      "[0.04734669 0.05691158 0.07205061 0.09183939 0.19950168 0.17526052\n",
      " 0.08934529 0.04340428 0.11414564 0.11019432]\n",
      "[0.30318004 0.23979201 0.17386293 0.12045943 0.01552803 0.02790859\n",
      " 0.12588732 0.33743765 0.08246187 0.08807159]\n"
     ]
    }
   ],
   "source": [
    "# for every data in img_new\n",
    "for i in range(img_new.shape[0]):\n",
    "    # E step\n",
    "    res_pos = np.empty_like(weight)\n",
    "    res_neg = np.empty_like(weight)\n",
    "    for j in range(weight.shape[0]):\n",
    "        res_pos[j] = weight[j] * probability[j] / np.dot(weight, probability)\n",
    "        res_neg[j] = weight[j] * (1 - probability[j]) / np.dot(weight, 1-probability)\n",
    "    \n",
    "    # M step\n",
    "    data = img_new[i]\n",
    "    count_pos = (data == 1).sum()\n",
    "    count_neg = (data == 0).sum()\n",
    "    for k in range(weight.shape[0]):\n",
    "        weight[k] = (count_pos * res_pos[k] + count_neg * res_neg[k]) / (count_pos + count_neg)\n",
    "        probability[k] = (count_pos * res_pos[k]) / (count_pos * res_pos[k] + count_neg * res_neg[k])\n",
    "print(weight)\n",
    "print(probability)"
   ]
  },
  {
   "cell_type": "code",
   "execution_count": 42,
   "metadata": {
    "scrolled": true
   },
   "outputs": [
    {
     "name": "stdout",
     "output_type": "stream",
     "text": [
      "[4, 4, 4, 4, 4, 4, 4, 4, 4, 4]\n"
     ]
    }
   ],
   "source": [
    "clustering = []\n",
    "for l in range(10):\n",
    "    idx, = np.where(lbl == l)\n",
    "    prediction = []\n",
    "    for i in idx.tolist():\n",
    "        data = img_new[i]\n",
    "        count_pos = (data == 1).sum()\n",
    "        count_neg = (data == 0).sum()\n",
    "        likelihood = np.empty_like(weight)\n",
    "        for c in range(likelihood.shape[0]):\n",
    "            likelihood[c] = (count_neg + count_pos) * np.log(weight[c]) + count_pos * np.log(probability[c]) + count_neg * np.log(1 - probability[c])\n",
    "    #     print(likelihood)\n",
    "        prediction.append(np.argmax(likelihood))\n",
    "    count = np.bincount(np.array(prediction))\n",
    "    clustering.append(np.argmax(count))\n",
    "print(clustering)"
   ]
  },
  {
   "cell_type": "code",
   "execution_count": 48,
   "metadata": {},
   "outputs": [
    {
     "name": "stdout",
     "output_type": "stream",
     "text": [
      "********************\n",
      "Class: 0\n",
      "tn: 504, fp: 53573, fn:444, tp: 5479\n",
      "Sensitivity: 0.9250379875063313, Specificity: 0.9906799563585258\n",
      "********************\n",
      "Class: 1\n",
      "tn: 948, fp: 52310, fn:0, tp: 6742\n",
      "Sensitivity: 1.0, Specificity: 0.9821998572984341\n",
      "********************\n",
      "Class: 2\n",
      "tn: 847, fp: 53195, fn:101, tp: 5857\n",
      "Sensitivity: 0.9830480026854649, Specificity: 0.9843270049220977\n",
      "********************\n",
      "Class: 3\n",
      "tn: 867, fp: 53002, fn:81, tp: 6050\n",
      "Sensitivity: 0.9867884521285272, Specificity: 0.9839054001373703\n",
      "********************\n",
      "Class: 4\n",
      "tn: 938, fp: 53220, fn:10, tp: 5832\n",
      "Sensitivity: 0.9982882574460801, Specificity: 0.9826803057720005\n",
      "********************\n",
      "Class: 5\n",
      "tn: 902, fp: 53677, fn:46, tp: 5375\n",
      "Sensitivity: 0.9915144807231138, Specificity: 0.9834734971325968\n",
      "********************\n",
      "Class: 6\n",
      "tn: 874, fp: 53208, fn:74, tp: 5844\n",
      "Sensitivity: 0.9874957755998648, Specificity: 0.9838393550534373\n",
      "********************\n",
      "Class: 7\n",
      "tn: 941, fp: 52794, fn:7, tp: 6258\n",
      "Sensitivity: 0.9988826815642458, Specificity: 0.9824881362240625\n",
      "********************\n",
      "Class: 8\n",
      "tn: 787, fp: 53362, fn:161, tp: 5690\n",
      "Sensitivity: 0.9724833361818492, Specificity: 0.9854660289202016\n",
      "********************\n",
      "Class: 9\n",
      "tn: 924, fp: 53127, fn:24, tp: 5925\n",
      "Sensitivity: 0.9959657085224407, Specificity: 0.9829050341344286\n"
     ]
    }
   ],
   "source": [
    "for l in range(10):\n",
    "    prediction = []\n",
    "    for i in range(lbl.shape[0]):\n",
    "        data = img_new[i]\n",
    "        count_pos = (data == 1).sum()\n",
    "        count_neg = (data == 0).sum()\n",
    "        likelihood = np.empty_like(weight)\n",
    "        for c in range(likelihood.shape[0]):\n",
    "            likelihood[c] = (count_neg + count_pos) * np.log(weight[c]) + count_pos * np.log(probability[c]) + count_neg * np.log(1 - probability[c])\n",
    "        prediction.append(1 if np.argmax(likelihood) == clustering[l] else 0)\n",
    "    label_bin = (lbl == l)\n",
    "    (tn, fp, fn, tp) = confusion_matrix(label_bin, np.array(prediction)).ravel()\n",
    "    print('*'*20)\n",
    "    print('Class: {}'.format(l))\n",
    "    print('tn: {}, fp: {}, fn:{}, tp: {}'.format(tn, fp, fn, tp))\n",
    "    print('Sensitivity: {}, Specificity: {}'.format(tp / (tp + fn), fp / (fp + tn)))"
   ]
  },
  {
   "cell_type": "code",
   "execution_count": null,
   "metadata": {},
   "outputs": [],
   "source": []
  },
  {
   "cell_type": "code",
   "execution_count": null,
   "metadata": {},
   "outputs": [],
   "source": []
  },
  {
   "cell_type": "code",
   "execution_count": null,
   "metadata": {},
   "outputs": [],
   "source": []
  }
 ],
 "metadata": {
  "kernelspec": {
   "display_name": "Python 3",
   "language": "python",
   "name": "python3"
  },
  "language_info": {
   "codemirror_mode": {
    "name": "ipython",
    "version": 3
   },
   "file_extension": ".py",
   "mimetype": "text/x-python",
   "name": "python",
   "nbconvert_exporter": "python",
   "pygments_lexer": "ipython3",
   "version": "3.6.8"
  }
 },
 "nbformat": 4,
 "nbformat_minor": 2
}
